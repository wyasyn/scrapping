{
 "cells": [
  {
   "cell_type": "code",
   "execution_count": 1,
   "id": "1eab34a6",
   "metadata": {},
   "outputs": [],
   "source": [
    "import requests\n",
    "from bs4 import BeautifulSoup\n",
    "import json"
   ]
  },
  {
   "cell_type": "code",
   "execution_count": 2,
   "id": "6c9efef4",
   "metadata": {},
   "outputs": [],
   "source": [
    "url = 'https://getskinbeauty.com/skincare/'\n",
    "headers = {\n",
    "    'User-Agent': 'Mozilla/5.0 (Windows NT 10.0; Win64; x64)'\n",
    "}"
   ]
  },
  {
   "cell_type": "code",
   "execution_count": 3,
   "id": "0def03f9",
   "metadata": {},
   "outputs": [],
   "source": [
    "response = requests.get(url, headers=headers)\n",
    "soup = BeautifulSoup(response.text, 'html.parser')"
   ]
  },
  {
   "cell_type": "code",
   "execution_count": 5,
   "id": "91c1ff8b",
   "metadata": {},
   "outputs": [],
   "source": [
    "product_grid = soup.find('div', class_='elementor-loop-container elementor-grid')"
   ]
  },
  {
   "cell_type": "code",
   "execution_count": 6,
   "id": "edd8c7fc",
   "metadata": {},
   "outputs": [],
   "source": [
    "products = []"
   ]
  },
  {
   "cell_type": "code",
   "execution_count": 8,
   "id": "aa4abde4",
   "metadata": {},
   "outputs": [
    {
     "name": "stdout",
     "output_type": "stream",
     "text": [
      "Successfully scraped 42 products and saved to products.json\n"
     ]
    }
   ],
   "source": [
    "if product_grid:\n",
    "    product_items = product_grid.find_all(\n",
    "        'div',\n",
    "        attrs={\n",
    "            'data-elementor-type': 'loop-item',\n",
    "            'data-elementor-id': '4408'\n",
    "        }\n",
    "    )\n",
    "\n",
    "    for product in product_items:\n",
    "        # Product link (outer anchor tag)\n",
    "        a_tag = product.find('a', href=True)\n",
    "        link = a_tag['href'] if a_tag else 'No Link'\n",
    "\n",
    "        # Title\n",
    "        title_tag = product.find('h3', class_='product_title entry-title elementor-heading-title elementor-size-default')\n",
    "        title = title_tag.text.strip() if title_tag else 'No Title'\n",
    "\n",
    "        # Price\n",
    "        price_tag = product.find('span', class_='woocommerce-Price-amount amount')\n",
    "        price = price_tag.text.strip() if price_tag else 'No Price'\n",
    "\n",
    "        # Image\n",
    "        img_tag = product.find('img')\n",
    "        image_url = img_tag['src'] if img_tag and img_tag.has_attr('src') else 'No Image'\n",
    "\n",
    "        # Description (NOTE: short descriptions may not appear in grid view; needs detail page fetch)\n",
    "        description_tag = product.find('div', class_='woocommerce-product-details__short-description')\n",
    "        description = description_tag.text.strip() if description_tag else 'No description in grid view'\n",
    "\n",
    "        # Store product info\n",
    "        products.append({\n",
    "            'title': title,\n",
    "            'price': price,\n",
    "            'description': description,\n",
    "            'image_url': image_url,\n",
    "            'link': link\n",
    "        })\n",
    "\n",
    "    # Save to JSON\n",
    "    with open('products.json', 'w', encoding='utf-8') as f:\n",
    "        json.dump(products, f, ensure_ascii=False, indent=4)\n",
    "\n",
    "    print(f'Successfully scraped {len(products)} products and saved to products.json')\n",
    "else:\n",
    "    print('Could not find product grid.')"
   ]
  }
 ],
 "metadata": {
  "kernelspec": {
   "display_name": "base",
   "language": "python",
   "name": "python3"
  },
  "language_info": {
   "codemirror_mode": {
    "name": "ipython",
    "version": 3
   },
   "file_extension": ".py",
   "mimetype": "text/x-python",
   "name": "python",
   "nbconvert_exporter": "python",
   "pygments_lexer": "ipython3",
   "version": "3.12.7"
  }
 },
 "nbformat": 4,
 "nbformat_minor": 5
}
